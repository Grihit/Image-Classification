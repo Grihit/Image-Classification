{
  "nbformat": 4,
  "nbformat_minor": 0,
  "metadata": {
    "colab": {
      "name": "Image Classification.ipynb",
      "provenance": [],
      "collapsed_sections": [],
      "authorship_tag": "ABX9TyO4athbEx2MpjmvMfJ+XyFo",
      "include_colab_link": true
    },
    "kernelspec": {
      "name": "python3",
      "display_name": "Python 3"
    },
    "language_info": {
      "name": "python"
    }
  },
  "cells": [
    {
      "cell_type": "markdown",
      "metadata": {
        "id": "view-in-github",
        "colab_type": "text"
      },
      "source": [
        "<a href=\"https://colab.research.google.com/github/Grihit/Image-Classification/blob/main/Image_Classification.ipynb\" target=\"_parent\"><img src=\"https://colab.research.google.com/assets/colab-badge.svg\" alt=\"Open In Colab\"/></a>"
      ]
    },
    {
      "cell_type": "code",
      "execution_count": 1,
      "metadata": {
        "colab": {
          "base_uri": "https://localhost:8080/"
        },
        "id": "muvyyrKHMdud",
        "outputId": "01441008-9d8c-4e39-8bc1-1883b2419681"
      },
      "outputs": [
        {
          "output_type": "stream",
          "name": "stdout",
          "text": [
            "Collecting bing-image-downloader\n",
            "  Downloading bing_image_downloader-1.1.1-py3-none-any.whl (5.7 kB)\n",
            "Installing collected packages: bing-image-downloader\n",
            "Successfully installed bing-image-downloader-1.1.1\n"
          ]
        }
      ],
      "source": [
        "#Using python library to scrape images for dataset\n",
        "!pip install bing-image-downloader"
      ]
    },
    {
      "cell_type": "code",
      "source": [
        "!mkdir images"
      ],
      "metadata": {
        "id": "r-Yw6XJeO4SQ"
      },
      "execution_count": 2,
      "outputs": []
    },
    {
      "cell_type": "code",
      "source": [
        "from bing_image_downloader import downloader\n",
        "downloader.download(\"banana fruit\",limit=30,output_dir='images', adult_filter_off=True)"
      ],
      "metadata": {
        "colab": {
          "base_uri": "https://localhost:8080/"
        },
        "id": "WE_HYWguPcFR",
        "outputId": "75bb283c-46f1-43d8-f6e0-4d73392e1303"
      },
      "execution_count": 3,
      "outputs": [
        {
          "output_type": "stream",
          "name": "stdout",
          "text": [
            "[%] Downloading Images to /content/images/banana fruit\n",
            "\n",
            "\n",
            "[!!]Indexing page: 1\n",
            "\n",
            "[%] Indexed 30 Images on Page 1.\n",
            "\n",
            "===============================================\n",
            "\n",
            "[%] Downloading Image #1 from http://www.lima-europe.eu/wp-content/uploads/2017/04/Banana.jpg\n",
            "[%] File Downloaded !\n",
            "\n",
            "[%] Downloading Image #2 from https://queridofuese-parole.com/miwib/KEeb5XtcWExf1qlxT8TPKQHaMt.jpg\n",
            "[%] File Downloaded !\n",
            "\n",
            "[%] Downloading Image #3 from https://www.shared.com/content/images/2019/04/Bananenbl-te.jpg\n",
            "[Error]Invalid image, not saving https://www.shared.com/content/images/2019/04/Bananenbl-te.jpg\n",
            "\n",
            "[!] Issue getting: https://www.shared.com/content/images/2019/04/Bananenbl-te.jpg\n",
            "[!] Error:: Invalid image, not saving https://www.shared.com/content/images/2019/04/Bananenbl-te.jpg\n",
            "\n",
            "[%] Downloading Image #3 from https://cdn.shopify.com/s/files/1/0079/6177/2150/products/Untitleddesign3.29.02PM_530x@2x.jpg?v=1606807865\n",
            "[%] File Downloaded !\n",
            "\n",
            "[%] Downloading Image #4 from https://cdn.shopify.com/s/files/1/2858/6430/products/bananafruittreesowexoticnursery_4_1200x1200.png?v=1597705448\n",
            "[%] File Downloaded !\n",
            "\n",
            "[%] Downloading Image #5 from https://www.gannett-cdn.com/-mm-/cec01b6067e6a621611069b751341797d19f809f/c=0-218-4288-2630/local/-/media/2017/04/26/Brevard/B9327244777Z.1_20170426084937_000_GI3I4LULC.1-0.jpg?width=3200&amp;height=1800&amp;fit=crop&amp;format=pjpg&amp;auto=webp\n",
            "[%] File Downloaded !\n",
            "\n",
            "[%] Downloading Image #6 from https://cdn.shopify.com/s/files/1/2858/6430/products/bananafruittreesowexoticnursery_5_620x.png?v=1597705467\n",
            "[%] File Downloaded !\n",
            "\n",
            "[%] Downloading Image #7 from https://miro.medium.com/max/18000/0*psZoB8bvMje5bfnm\n",
            "[Error]Invalid image, not saving https://miro.medium.com/max/18000/0*psZoB8bvMje5bfnm\n",
            "\n",
            "[!] Issue getting: https://miro.medium.com/max/18000/0*psZoB8bvMje5bfnm\n",
            "[!] Error:: Invalid image, not saving https://miro.medium.com/max/18000/0*psZoB8bvMje5bfnm\n",
            "\n",
            "[%] Downloading Image #7 from https://i.pinimg.com/originals/4a/5f/90/4a5f9031bb28d4f289342ce02506a800.jpg\n",
            "[%] File Downloaded !\n",
            "\n",
            "[%] Downloading Image #8 from https://cdn2.stylecraze.com/wp-content/uploads/2014/07/3365-Can-I-Eat-Bananas-If-I-Have-Diabetes-ss.jpg\n",
            "[%] File Downloaded !\n",
            "\n",
            "[%] Downloading Image #9 from https://1.bp.blogspot.com/-_HpJ9FsQSxU/V4OOZnQfAFI/AAAAAAAACNU/Zm6aRIIwlIESPjvfLmN7DhGQR_Pck9xygCPcBGAYYCw/s1600/Banana.jpg\n",
            "[%] File Downloaded !\n",
            "\n",
            "[%] Downloading Image #10 from https://allbenefitsoffruits.com/wp-content/uploads/2018/07/are-bananas-good-for-your-heart.jpg\n",
            "[%] File Downloaded !\n",
            "\n",
            "[%] Downloading Image #11 from https://i.pinimg.com/originals/27/fa/7e/27fa7e36f5b8fca4ceb9761e0911ce6a.jpg\n",
            "[%] File Downloaded !\n",
            "\n",
            "[%] Downloading Image #12 from https://www.maxpixel.net/static/photo/2x/Fresh-Fruit-Bananas-Food-Healthy-Breakfast-Yellow-6259477.jpg\n",
            "[%] File Downloaded !\n",
            "\n",
            "[%] Downloading Image #13 from https://cdn.shopify.com/s/files/1/2858/6430/products/bananafruittreesowexoticnursery_2_620x.png?v=1597705486\n",
            "[%] File Downloaded !\n",
            "\n",
            "[%] Downloading Image #14 from https://i.ebayimg.com/images/i/401535031280-0-1/s-l1000.jpg\n",
            "[%] File Downloaded !\n",
            "\n",
            "[%] Downloading Image #15 from https://genewinbiotech.com/wp-content/uploads/2017/06/IMG_2613.jpg\n",
            "[%] File Downloaded !\n",
            "\n",
            "[%] Downloading Image #16 from http://importants.com.au/wordpress/wp-content/uploads/thumbs/Herberry-Bananas.jpg\n",
            "[%] File Downloaded !\n",
            "\n",
            "[%] Downloading Image #17 from https://www.garden.eco/wp-content/uploads/2018/03/bananas-grow-on-trees.jpg\n",
            "[%] File Downloaded !\n",
            "\n",
            "[%] Downloading Image #18 from https://i.ebayimg.com/images/g/-OUAAOSwSA5dvuBr/s-l640.jpg\n",
            "[%] File Downloaded !\n",
            "\n",
            "[%] Downloading Image #19 from https://devour.asia/wp-content/uploads/2020/02/bananas-730x479.jpg\n",
            "[%] File Downloaded !\n",
            "\n",
            "[%] Downloading Image #20 from https://www.totalfruit.net/wp-content/uploads/2019/09/Panama-Disease-and-the-Future-of-Bananas-768x508.jpg\n",
            "[%] File Downloaded !\n",
            "\n",
            "[%] Downloading Image #21 from http://justfunfacts.com/wp-content/uploads/2018/01/bananas.jpg\n",
            "[%] File Downloaded !\n",
            "\n",
            "[%] Downloading Image #22 from https://kids.sandiegozoowildlifealliance.org/sites/default/files/2019-01/bananas-bunch.jpg\n",
            "[%] File Downloaded !\n",
            "\n",
            "[%] Downloading Image #23 from https://cdn.diabetesselfmanagement.com/2020/03/dsm-is-banana-good-for-diabetes-shutterstock_244685272-1000x667.jpg\n",
            "[%] File Downloaded !\n",
            "\n",
            "[%] Downloading Image #24 from http://4.bp.blogspot.com/-PvXwAPpg4ho/UF_ZKJIY9oI/AAAAAAAAAbw/-U5QTwpj5Bg/s400/banana_feira.jpg\n",
            "[%] File Downloaded !\n",
            "\n",
            "[%] Downloading Image #25 from http://i.ebayimg.com/images/i/131438754911-0-1/s-l1000.jpg\n",
            "[%] File Downloaded !\n",
            "\n",
            "[%] Downloading Image #26 from https://i.ebayimg.com/images/i/173131964189-0-1/s-l1000.jpg\n",
            "[%] File Downloaded !\n",
            "\n",
            "[%] Downloading Image #27 from https://www.homeperch.com/wp-content/uploads/2020/09/how-to-keep-bananas-fresh-for-longer-Sept82020-4-min-608x499.jpg\n",
            "[%] File Downloaded !\n",
            "\n",
            "[%] Downloading Image #28 from http://cdn.shopify.com/s/files/1/2858/6430/products/0155d9_41fa340cabb54f40b24cc7b2b0115817_mv2_1200x1200.jpg?v=1569116516\n",
            "[%] File Downloaded !\n",
            "\n",
            "\n",
            "\n",
            "[!!]Indexing page: 2\n",
            "\n",
            "[%] Indexed 35 Images on Page 2.\n",
            "\n",
            "===============================================\n",
            "\n",
            "[%] Downloading Image #29 from http://www.lima-europe.eu/wp-content/uploads/2017/04/Banana.jpg\n",
            "[%] File Downloaded !\n",
            "\n",
            "[%] Downloading Image #30 from https://queridofuese-parole.com/miwib/KEeb5XtcWExf1qlxT8TPKQHaMt.jpg\n",
            "[%] File Downloaded !\n",
            "\n",
            "\n",
            "\n",
            "[%] Done. Downloaded 30 images.\n",
            "===============================================\n",
            "\n",
            "Please show your support here\n",
            "https://www.buymeacoffee.com/gurugaurav\n",
            "\n",
            "===============================================\n",
            "\n"
          ]
        }
      ]
    },
    {
      "cell_type": "code",
      "source": [
        "downloader.download(\"dog\",limit=30,output_dir='images')"
      ],
      "metadata": {
        "colab": {
          "base_uri": "https://localhost:8080/"
        },
        "id": "W0MxjyLrSa3b",
        "outputId": "89c12b43-1922-4b1e-c19b-dbd83cbe80aa"
      },
      "execution_count": 4,
      "outputs": [
        {
          "output_type": "stream",
          "name": "stdout",
          "text": [
            "[%] Downloading Images to /content/images/dog\n",
            "\n",
            "\n",
            "[!!]Indexing page: 1\n",
            "\n",
            "[%] Indexed 30 Images on Page 1.\n",
            "\n",
            "===============================================\n",
            "\n",
            "[%] Downloading Image #1 from https://cdn.newsapi.com.au/image/v1/098fe707e818d4d04deb0e27af7186bd?width=650\n",
            "[%] File Downloaded !\n",
            "\n",
            "[%] Downloading Image #2 from https://duckboss.com/wp-content/uploads/2018/09/cuteduckdog-1024x879.jpg\n",
            "[%] File Downloaded !\n",
            "\n",
            "[%] Downloading Image #3 from https://i.pinimg.com/originals/30/29/bf/3029bf77283796e996d5f2bdeaaf5ef7.jpg\n",
            "[%] File Downloaded !\n",
            "\n",
            "[%] Downloading Image #4 from https://i.pinimg.com/originals/dc/bc/d9/dcbcd967e5dd9cd290b789f1a51a9c73.jpg\n",
            "[%] File Downloaded !\n",
            "\n",
            "[%] Downloading Image #5 from https://d3lp4xedbqa8a5.cloudfront.net/s3/digital-cougar-assets/homes/2019/04/11/1554949131655_kelpie-on-farm.jpg?width=690&amp;height=&amp;mode=crop&amp;quality=75\n",
            "[%] File Downloaded !\n",
            "\n",
            "[%] Downloading Image #6 from https://i.pinimg.com/originals/37/62/cd/3762cdae5381fc8ed95fd6c3b09c81c1.jpg\n",
            "[%] File Downloaded !\n",
            "\n",
            "[%] Downloading Image #7 from http://www.dogshaming.com/wp-content/uploads/2014/06/image.jpg\n",
            "[%] File Downloaded !\n",
            "\n",
            "[%] Downloading Image #8 from https://cdn.newsapi.com.au/image/v1/4ac1094bc29b29a0e6a9e2ae1eedf44f?width=650\n",
            "[%] File Downloaded !\n",
            "\n",
            "[%] Downloading Image #9 from https://cdn.newsapi.com.au/image/v1/3e1b4219001485d0a27bf0e3e53c4e33?width=1024\n",
            "[%] File Downloaded !\n",
            "\n",
            "[%] Downloading Image #10 from https://www.cheatsheet.com/wp-content/uploads/2017/07/hunting-dog.jpg?x53312\n",
            "[%] File Downloaded !\n",
            "\n",
            "[%] Downloading Image #11 from https://content.api.news/v3/images/bin/8c230ad6c5cb97f6d23cef76930afadf\n",
            "[%] File Downloaded !\n",
            "\n",
            "[%] Downloading Image #12 from https://ichef.bbci.co.uk/news/976/mcs/media/images/67507000/jpg/_67507697_big_little624think.jpg\n",
            "[%] File Downloaded !\n",
            "\n",
            "[%] Downloading Image #13 from https://ultimaterides.com/wp-content/uploads/2020/07/AdobeStock_167686981-scaled.jpeg\n",
            "[%] File Downloaded !\n",
            "\n",
            "[%] Downloading Image #14 from https://www.hellosuntra.com/thoughts/wp-content/uploads/2020/05/true-love.jpg\n",
            "[%] File Downloaded !\n",
            "\n",
            "[%] Downloading Image #15 from https://img.clickviewapp.com/v1/thumbnails/267839\n",
            "[%] File Downloaded !\n",
            "\n",
            "[%] Downloading Image #16 from https://i1.wp.com/janksreviews.com/wp-content/uploads/2016/12/red-dog-1.jpg?fit=1000%2C563\n",
            "[%] File Downloaded !\n",
            "\n",
            "[%] Downloading Image #17 from http://villemagazine.com/images/easyblog_articles/257/b2ap3_large_true-dog-parent.jpg\n",
            "[%] File Downloaded !\n",
            "\n",
            "[%] Downloading Image #18 from http://www.reddogwa.com/yahoo_site_admin/assets/images/601995.169221507_large.jpg\n",
            "[%] File Downloaded !\n",
            "\n",
            "[%] Downloading Image #19 from http://3.bp.blogspot.com/-F3OzMER9NqA/UkSyau9tNpI/AAAAAAAAL_s/fX3g2vEbeSs/s1600/oatmeal1.jpg\n",
            "[%] File Downloaded !\n",
            "\n",
            "[%] Downloading Image #20 from http://reddogwa.com/yahoo_site_admin/assets/images/Phoenix.169221105_large.jpg\n",
            "[%] File Downloaded !\n",
            "\n",
            "[%] Downloading Image #21 from https://innovativek9academy.com/wp-content/uploads/2017/03/dog-aggression.jpg\n",
            "[%] File Downloaded !\n",
            "\n",
            "[%] Downloading Image #22 from http://truepetmatch.com/wp-content/uploads/2020/10/JSPCA-11-1300x1300.jpg\n",
            "[%] File Downloaded !\n",
            "\n",
            "[%] Downloading Image #23 from https://i1.wp.com/nerdnomads.com/wp-content/uploads/DSC50761.jpg?fit=1600%2C1063&amp;ssl=1\n",
            "[%] File Downloaded !\n",
            "\n",
            "[%] Downloading Image #24 from http://www.shedoesthecity.com/wp-content/uploads/files/2013/05/marshall-1.jpg\n",
            "[%] File Downloaded !\n",
            "\n",
            "[%] Downloading Image #25 from http://www.truelifewithgod.com/wp-content/uploads/2016/05/IMG_0227-e1464364403305.jpg\n",
            "[%] File Downloaded !\n",
            "\n",
            "[%] Downloading Image #26 from https://www.reddogwa.com/yahoo_site_admin/assets/images/red-dog--true-blue-2016-large-cover.169221152_large.jpg\n",
            "[%] File Downloaded !\n",
            "\n",
            "[%] Downloading Image #27 from https://www.southernfm.com.au/wp-content/uploads/2017/01/Blue_Dog_17261-768x1160.jpg\n",
            "[%] File Downloaded !\n",
            "\n",
            "[%] Downloading Image #28 from https://d1mm3624z6jafc.cloudfront.net/movies/posters/Red_Dog_True_Blue_700x1000_LR.jpg?v=12&amp;width=1600&amp;height=900&amp;scale=both&amp;mode=crop\n",
            "[%] File Downloaded !\n",
            "\n",
            "[%] Downloading Image #29 from https://www.shanethegamer.com/wp-content/uploads/EasyRotatorStorage/user-content/erc_10_1481592272/content/assets/RED DOG 2-01507-0.jpg\n",
            "[!] Issue getting: https://www.shanethegamer.com/wp-content/uploads/EasyRotatorStorage/user-content/erc_10_1481592272/content/assets/RED DOG 2-01507-0.jpg\n",
            "[!] Error:: URL can't contain control characters. '/wp-content/uploads/EasyRotatorStorage/user-content/erc_10_1481592272/content/assets/RED DOG 2-01507-0.jpg' (found at least ' ')\n",
            "[%] Downloading Image #29 from https://mrmoviefilmblog.files.wordpress.com/2016/12/red-dog-true-blue-002.jpg?w=1200\n",
            "[%] File Downloaded !\n",
            "\n",
            "\n",
            "\n",
            "[!!]Indexing page: 2\n",
            "\n",
            "[%] Indexed 35 Images on Page 2.\n",
            "\n",
            "===============================================\n",
            "\n",
            "[%] Downloading Image #30 from https://cdn.newsapi.com.au/image/v1/098fe707e818d4d04deb0e27af7186bd?width=650\n",
            "[%] File Downloaded !\n",
            "\n",
            "\n",
            "\n",
            "[%] Done. Downloaded 30 images.\n",
            "===============================================\n",
            "\n",
            "Please show your support here\n",
            "https://www.buymeacoffee.com/gurugaurav\n",
            "\n",
            "===============================================\n",
            "\n"
          ]
        }
      ]
    },
    {
      "cell_type": "code",
      "source": [
        "downloader.download(\"car\",limit=30,output_dir='images')"
      ],
      "metadata": {
        "colab": {
          "base_uri": "https://localhost:8080/"
        },
        "id": "0Hm6sZPVUJ_g",
        "outputId": "3becb48a-f0a6-4fa1-854f-873fc0ab195d"
      },
      "execution_count": 5,
      "outputs": [
        {
          "output_type": "stream",
          "name": "stdout",
          "text": [
            "[%] Downloading Images to /content/images/car\n",
            "\n",
            "\n",
            "[!!]Indexing page: 1\n",
            "\n",
            "[%] Indexed 30 Images on Page 1.\n",
            "\n",
            "===============================================\n",
            "\n",
            "[%] Downloading Image #1 from https://www.exoticcarlist.com/blog/wp-content/uploads/2015/06/Aston-Martin-One-77-21.jpg\n",
            "[%] File Downloaded !\n",
            "\n",
            "[%] Downloading Image #2 from https://www.thedrive.com/content/archive-images/r8_hero1.jpg?width=1440&amp;quality=70\n",
            "[%] File Downloaded !\n",
            "\n",
            "[%] Downloading Image #3 from https://www.completecar.ie/img/galleries/10659/lamborghini_25.jpg\n",
            "[Error]Invalid image, not saving https://www.completecar.ie/img/galleries/10659/lamborghini_25.jpg\n",
            "\n",
            "[!] Issue getting: https://www.completecar.ie/img/galleries/10659/lamborghini_25.jpg\n",
            "[!] Error:: Invalid image, not saving https://www.completecar.ie/img/galleries/10659/lamborghini_25.jpg\n",
            "\n",
            "[%] Downloading Image #3 from https://s1.cdn.autoevolution.com/images/news/gallery/production-cars-with-the-highest-torque-numbers-for-2017_34.jpg\n",
            "[%] File Downloaded !\n",
            "\n",
            "[%] Downloading Image #4 from https://luxurylaunches.com/wp-content/uploads/2016/03/jaguar.jpg\n",
            "[%] File Downloaded !\n",
            "\n",
            "[%] Downloading Image #5 from https://motorreview.com/wp-content/uploads/2013/09/2014_alfa_romeo_4c_overseas_01-0216.jpg\n",
            "[%] File Downloaded !\n",
            "\n",
            "[%] Downloading Image #6 from https://ccnwordpress.blob.core.windows.net/journal/2018/05/20180507_100831.jpg\n",
            "[%] File Downloaded !\n",
            "\n",
            "[%] Downloading Image #7 from http://www.carbodydesign.com/archive/2009/08/05-sv-9-competizione-images/SV-9-Competizione-4-lg.jpg\n",
            "[%] File Downloaded !\n",
            "\n",
            "[%] Downloading Image #8 from http://cdn.carbuzz.com/gallery-images/1600/391000/300/391395.jpg\n",
            "[%] File Downloaded !\n",
            "\n",
            "[%] Downloading Image #9 from https://d2cdo4blch85n8.cloudfront.net/wp-content/uploads/2019/06/Lamborghini-Huracan-Sterrato-Off-road-Supercar-Featured-image.jpg\n",
            "[%] File Downloaded !\n",
            "\n",
            "[%] Downloading Image #10 from https://d39a3h63xew422.cloudfront.net/wp-content/uploads/2015/01/20165402/the-lamborghini-countach-is-a-concept-car-come-true-1476934665212.jpg\n",
            "[%] File Downloaded !\n",
            "\n",
            "[%] Downloading Image #11 from https://www.exoticcarlist.com/blog/wp-content/uploads/2020/12/porsche-919-street-clay-model.jpg\n",
            "[%] File Downloaded !\n",
            "\n",
            "[%] Downloading Image #12 from http://cms.ipressroom.com.s3.amazonaws.com/152/files/20180/toyota-2017-toyota-86-exterior-ablaze-l.jpg\n",
            "[%] File Downloaded !\n",
            "\n",
            "[%] Downloading Image #13 from https://carfanaticsblog.com/wp-content/uploads/2014/01/2015-Lexus-RC-F-2.jpg\n",
            "[%] File Downloaded !\n",
            "\n",
            "[%] Downloading Image #14 from https://daxstreet.com/wp-content/uploads/2020/12/gtr-1024x576.jpg\n",
            "[%] File Downloaded !\n",
            "\n",
            "[%] Downloading Image #15 from https://www.motorbiscuit.com/wp-content/uploads/2020/12/2020-Ford-Mustang.jpg\n",
            "[%] File Downloaded !\n",
            "\n",
            "[%] Downloading Image #16 from https://journal.classiccars.com/media/2020/11/mgtd-pick-1.jpg\n",
            "[%] File Downloaded !\n",
            "\n",
            "[%] Downloading Image #17 from https://www.carscoops.com/wp-content/uploads/2018/12/e950b438-mazda-rotary-sports-car-.jpg\n",
            "[%] File Downloaded !\n",
            "\n",
            "[%] Downloading Image #18 from https://www.exoticcarlist.com/blog/wp-content/uploads/2020/12/Porsche-919-Street.jpg\n",
            "[%] File Downloaded !\n",
            "\n",
            "[%] Downloading Image #19 from https://car-from-uk.com/ebay/carphotos/full/ebay141341024497804.jpg\n",
            "[%] File Downloaded !\n",
            "\n",
            "[%] Downloading Image #20 from https://media.whatcar.com/migration/reviews/95bb3932f4af6d8e2009d2c4c484b9318428e0c1.jpg\n",
            "[%] File Downloaded !\n",
            "\n",
            "[%] Downloading Image #21 from http://shinecoco.com/wp-content/uploads/2020/04/alyssa.alexarae.jpg\n",
            "[%] File Downloaded !\n",
            "\n",
            "[%] Downloading Image #22 from https://static3.hotcarsimages.com/wordpress/wp-content/uploads/2020/06/canadian-cars.jpg\n",
            "[Error]Invalid image, not saving https://static3.hotcarsimages.com/wordpress/wp-content/uploads/2020/06/canadian-cars.jpg\n",
            "\n",
            "[!] Issue getting: https://static3.hotcarsimages.com/wordpress/wp-content/uploads/2020/06/canadian-cars.jpg\n",
            "[!] Error:: Invalid image, not saving https://static3.hotcarsimages.com/wordpress/wp-content/uploads/2020/06/canadian-cars.jpg\n",
            "\n",
            "[%] Downloading Image #22 from https://musclecarwarehouse.com.au/wp-content/uploads/2018/12/IMG_7245-1024x768.jpg\n",
            "[%] File Downloaded !\n",
            "\n",
            "[%] Downloading Image #23 from https://www.carscoops.com/wp-content/uploads/2019/03/719fdb3f-ford-rs200-.jpg\n",
            "[%] File Downloaded !\n",
            "\n",
            "[%] Downloading Image #24 from https://blog.iseecars.com/wp-content/uploads/2016/10/2017-Dodge-Charger-SRT-Hellcat.jpg\n",
            "[%] File Downloaded !\n",
            "\n",
            "[%] Downloading Image #25 from https://www.nydailynews.com/resizer/dgehi3rN1TYIgU456eWY5zYsq7k=/1400x0/top/arc-anglerfish-arc2-prod-tronc.s3.amazonaws.com/public/3UHNVTTCSZYED6I2BM4ER767JM.jpg\n",
            "[%] File Downloaded !\n",
            "\n",
            "[%] Downloading Image #26 from https://d39a3h63xew422.cloudfront.net/wp-content/uploads/2015/01/22102746/the-lamborghini-countach-is-a-concept-car-come-true-1476934085540.jpg\n",
            "[%] File Downloaded !\n",
            "\n",
            "[%] Downloading Image #27 from https://pbs.twimg.com/media/CiwFV09WgAAARpY.jpg:large\n",
            "[%] File Downloaded !\n",
            "\n",
            "[%] Downloading Image #28 from https://s3.us-east-2.amazonaws.com/prod.mm.com/img/featurenews/1959_maserati_3500_1568145875ea3a40C4A3930-e1568390102392.jpg\n",
            "[%] File Downloaded !\n",
            "\n",
            "\n",
            "\n",
            "[!!]Indexing page: 2\n",
            "\n",
            "[%] Indexed 35 Images on Page 2.\n",
            "\n",
            "===============================================\n",
            "\n",
            "[%] Downloading Image #29 from https://www.exoticcarlist.com/blog/wp-content/uploads/2015/06/Aston-Martin-One-77-21.jpg\n",
            "[%] File Downloaded !\n",
            "\n",
            "[%] Downloading Image #30 from https://www.thedrive.com/content/archive-images/r8_hero1.jpg?width=1440&amp;quality=70\n",
            "[%] File Downloaded !\n",
            "\n",
            "\n",
            "\n",
            "[%] Done. Downloaded 30 images.\n",
            "===============================================\n",
            "\n",
            "Please show your support here\n",
            "https://www.buymeacoffee.com/gurugaurav\n",
            "\n",
            "===============================================\n",
            "\n"
          ]
        }
      ]
    },
    {
      "cell_type": "code",
      "source": [
        "downloader.download(\"laptop\",limit=30,output_dir='images')"
      ],
      "metadata": {
        "colab": {
          "base_uri": "https://localhost:8080/"
        },
        "id": "f8ReB3zBUwI8",
        "outputId": "27eb6caa-3566-4fd4-828c-3a1751a0c0f1"
      },
      "execution_count": 6,
      "outputs": [
        {
          "output_type": "stream",
          "name": "stdout",
          "text": [
            "[%] Downloading Images to /content/images/laptop\n",
            "\n",
            "\n",
            "[!!]Indexing page: 1\n",
            "\n",
            "[%] Indexed 30 Images on Page 1.\n",
            "\n",
            "===============================================\n",
            "\n",
            "[%] Downloading Image #1 from https://i.ebayimg.com/images/g/K6MAAOSwcmVf42FV/s-l1600.jpg\n",
            "[%] File Downloaded !\n",
            "\n",
            "[%] Downloading Image #2 from https://images.techhive.com/images/article/2015/09/dsc02357-100615343-orig.jpg\n",
            "[%] File Downloaded !\n",
            "\n",
            "[%] Downloading Image #3 from https://truemedian.com/wp-content/uploads/2020/09/141759-dell-latitude-business-gaming-laptop-windows-10-intel-core-i5-16gb-ram-2tb-ssd.png\n",
            "[%] File Downloaded !\n",
            "\n",
            "[%] Downloading Image #4 from https://truemedian.com/wp-content/uploads/2020/09/139806-new-hp-156-touchscreen-laptop-intel-dual-core-10th-gen-i3-3-4ghz-8gb-256gb-ssd-1536x1536.jpg\n",
            "[%] File Downloaded !\n",
            "\n",
            "[%] Downloading Image #5 from https://truemedian.com/wp-content/uploads/2020/09/139963-acer-chromebook-laptop-intel-celeron-4-memory-320-hdd-bluetooth-wifi-hdmi-webcam.jpg\n",
            "[%] File Downloaded !\n",
            "\n",
            "[%] Downloading Image #6 from https://www.bhphotovideo.com/images/images2500x2500/lg_15z990_a_aas7u1_gram_i7_8565u_16gb_256ssd_1459835.jpg\n",
            "[%] File Downloaded !\n",
            "\n",
            "[%] Downloading Image #7 from https://www.bhphotovideo.com/images/images2500x2500/lg_14z970_u_ap51u1_i5_7200u_8gb_256ssd_1405887.jpg\n",
            "[%] File Downloaded !\n",
            "\n",
            "[%] Downloading Image #8 from https://truemedian.com/wp-content/uploads/2021/01/169509-lenovo-thinkpad-t480s-laptop-i5-8350u-8gb-ram-256-ssd-win-10-installed-1152x1536.jpg\n",
            "[!] Issue getting: https://truemedian.com/wp-content/uploads/2021/01/169509-lenovo-thinkpad-t480s-laptop-i5-8350u-8gb-ram-256-ssd-win-10-installed-1152x1536.jpg\n",
            "[!] Error:: HTTP Error 404: Not Found\n",
            "[%] Downloading Image #8 from https://www.bhphotovideo.com/images/images2500x2500/acer_nh_q5faa_002_ob_15_6_nitro_7_gaming_1556906.jpg\n",
            "[%] File Downloaded !\n",
            "\n",
            "[%] Downloading Image #9 from https://bgr.com/wp-content/uploads/2017/05/surfaceee.jpg\n",
            "[%] File Downloaded !\n",
            "\n",
            "[%] Downloading Image #10 from https://i.ebayimg.com/images/g/wXMAAOSwwxJhBjs7/s-l1600.jpg\n",
            "[%] File Downloaded !\n",
            "\n",
            "[%] Downloading Image #11 from https://www.linksys.co.ke/wp-content/uploads/2020/08/105602-1.jpg\n",
            "[%] File Downloaded !\n",
            "\n",
            "[%] Downloading Image #12 from https://i.ebayimg.com/images/g/-dwAAOSw07Be~Qv5/s-l1600.png\n",
            "[%] File Downloaded !\n",
            "\n",
            "[%] Downloading Image #13 from https://www.bhphotovideo.com/images/images2500x2500/samsung_np900x5n_k01us_15_6_notebook_9_light_1304856.jpg\n",
            "[%] File Downloaded !\n",
            "\n",
            "[%] Downloading Image #14 from https://cms-images.idgesg.net/images/article/2015/09/dsc02350-100615341-orig.jpg\n",
            "[!] Issue getting: https://cms-images.idgesg.net/images/article/2015/09/dsc02350-100615341-orig.jpg\n",
            "[!] Error:: <urlopen error [Errno 111] Connection refused>\n",
            "[%] Downloading Image #14 from https://truemedian.com/wp-content/uploads/2020/08/138443-dell-latitude-business-gaming-laptop-hd-intel-core-i5-3-20ghz-16gb-ram-2tb-ssd.png\n",
            "[%] File Downloaded !\n",
            "\n",
            "[%] Downloading Image #15 from https://rukminim1.flixcart.com/image/1664/1664/computer/g/c/e/dell-inspiron-15-notebook-original-imadkgx7g87nzhrq.jpeg?q=90\n",
            "[%] File Downloaded !\n",
            "\n",
            "[%] Downloading Image #16 from https://i.ebayimg.com/images/g/RDAAAOSwkfRfI4t~/s-l1600.png\n",
            "[%] File Downloaded !\n",
            "\n",
            "[%] Downloading Image #17 from https://1.bp.blogspot.com/-E6zn6VIqZQo/V8_a90sPXmI/AAAAAAAAO9s/PBzO4OhDwhwIAb0hpcTgGGCHyu3m1AYOgCLcB/s1600/predator09-1.jpg\n",
            "[%] File Downloaded !\n",
            "\n",
            "[%] Downloading Image #18 from https://1.bp.blogspot.com/-Fg2fags-I-Y/U_H8GQnIJYI/AAAAAAAAAPE/s2gmdIltPHI/s1600/dell-2873-59148-1-zoom.jpg\n",
            "[%] File Downloaded !\n",
            "\n",
            "[%] Downloading Image #19 from https://i.ebayimg.com/images/g/~nkAAOSwzPpgDwNB/s-l1600.jpg\n",
            "[%] File Downloaded !\n",
            "\n",
            "[%] Downloading Image #20 from https://i.ebayimg.com/images/g/PNYAAOSwQsphH9ds/s-l1600.jpg\n",
            "[%] File Downloaded !\n",
            "\n",
            "[%] Downloading Image #21 from https://i.ebayimg.com/images/g/JXAAAOSwqc5f~Kp-/s-l1600.jpg\n",
            "[%] File Downloaded !\n",
            "\n",
            "[%] Downloading Image #22 from https://www.bhphotovideo.com/images/images1000x1000/lg_17z990_r_aas9u1_17_gram_multi_touch_laptop_1525712.jpg\n",
            "[%] File Downloaded !\n",
            "\n",
            "[%] Downloading Image #23 from https://1.bp.blogspot.com/-qkh67J1v8jQ/UqsRUmfma7I/AAAAAAAAIDY/CsL33Am2S4A/s1600/20131213_075506.jpg\n",
            "[%] File Downloaded !\n",
            "\n",
            "[%] Downloading Image #24 from https://truemedian.com/new-hp-14-hd-laptop-intel-celeron-n4020-4gb-memory-64gb-emmc-webcam-white/new-hp-14-hd-laptop-intel-celeron-n4020-4gb-memory-64gb-emmc-webcam-white.png\n",
            "[!] Issue getting: https://truemedian.com/new-hp-14-hd-laptop-intel-celeron-n4020-4gb-memory-64gb-emmc-webcam-white/new-hp-14-hd-laptop-intel-celeron-n4020-4gb-memory-64gb-emmc-webcam-white.png\n",
            "[!] Error:: HTTP Error 404: Not Found\n",
            "[%] Downloading Image #24 from https://manofmany.com/wp-content/uploads/2018/03/Man-Of-Many-HP-15.jpg\n",
            "[%] File Downloaded !\n",
            "\n",
            "[%] Downloading Image #25 from https://www.techgadgetguides.com/wp-content/uploads/2018/03/96f90e110ce3f53e13d9b0c6a2e3fff8-1-1024x689.jpg\n",
            "[%] File Downloaded !\n",
            "\n",
            "[%] Downloading Image #26 from https://www.windowscentral.com/sites/wpcentral.com/files/styles/large/public/field/image/2020/11/gateway-rtx-2060-laptop-deal-3.jpg\n",
            "[%] File Downloaded !\n",
            "\n",
            "[%] Downloading Image #27 from https://external-preview.redd.it/ZLuJq62DosBeeHHZ0xMQIhqTTi05MOveDsrGJPWzNY0.jpg?auto=webp&amp;s=e8a03a95a44f38b8be327c67becb79b2fda1c9fb\n",
            "[!] Issue getting: https://external-preview.redd.it/ZLuJq62DosBeeHHZ0xMQIhqTTi05MOveDsrGJPWzNY0.jpg?auto=webp&amp;s=e8a03a95a44f38b8be327c67becb79b2fda1c9fb\n",
            "[!] Error:: HTTP Error 403: Forbidden\n",
            "\n",
            "\n",
            "[!!]Indexing page: 2\n",
            "\n",
            "[%] Indexed 35 Images on Page 2.\n",
            "\n",
            "===============================================\n",
            "\n",
            "[%] Downloading Image #27 from https://i.ebayimg.com/images/g/K6MAAOSwcmVf42FV/s-l1600.jpg\n",
            "[%] File Downloaded !\n",
            "\n",
            "[%] Downloading Image #28 from https://images.techhive.com/images/article/2015/09/dsc02357-100615343-orig.jpg\n",
            "[%] File Downloaded !\n",
            "\n",
            "[%] Downloading Image #29 from https://truemedian.com/wp-content/uploads/2020/09/141759-dell-latitude-business-gaming-laptop-windows-10-intel-core-i5-16gb-ram-2tb-ssd.png\n",
            "[%] File Downloaded !\n",
            "\n",
            "[%] Downloading Image #30 from https://truemedian.com/wp-content/uploads/2020/09/139806-new-hp-156-touchscreen-laptop-intel-dual-core-10th-gen-i3-3-4ghz-8gb-256gb-ssd-1536x1536.jpg\n",
            "[%] File Downloaded !\n",
            "\n",
            "\n",
            "\n",
            "[%] Done. Downloaded 30 images.\n",
            "===============================================\n",
            "\n",
            "Please show your support here\n",
            "https://www.buymeacoffee.com/gurugaurav\n",
            "\n",
            "===============================================\n",
            "\n"
          ]
        }
      ]
    },
    {
      "cell_type": "code",
      "source": [
        "#Preprocessing data\n",
        "\n",
        "import os\n",
        "import matplotlib.pyplot as plt\n",
        "import numpy as np\n",
        "from skimage.io import imread\n",
        "from skimage.transform import resize\n",
        "\n",
        "target = []\n",
        "images = []\n",
        "flat_data = []\n",
        "\n",
        "DATADIR = '/content/images'\n",
        "CATEGORIES = ['banana fruit','dog','car','laptop']\n",
        "\n",
        "for category in CATEGORIES:\n",
        "  class_num = CATEGORIES.index(category) #Label Encoding\n",
        "  #print(class_num)\n",
        "  path = os.path.join(DATADIR,category) #Path to use the images\n",
        "  #print(path)\n",
        "  for img in os.listdir(path):\n",
        "    img_array = imread(os.path.join(path,img))\n",
        "    #print(img_array.shape) #To show each image in numbers\n",
        "    #plt.imshow(img_array) #To show the image\n",
        "    #break\n",
        "\n",
        "    #Resize and Flatten\n",
        "    img_resized = resize(img_array,(150,150,3)) #normalises the values\n",
        "    flat_data.append(img_resized.flatten())\n",
        "    images.append(img_resized)\n",
        "    target.append(class_num)\n",
        "\n",
        "flat_data = np.array(flat_data)\n",
        "target = np.array(target)\n",
        "images = np.array(images)"
      ],
      "metadata": {
        "id": "_06pZEjxVdwv"
      },
      "execution_count": 7,
      "outputs": []
    },
    {
      "cell_type": "code",
      "source": [
        "target"
      ],
      "metadata": {
        "colab": {
          "base_uri": "https://localhost:8080/"
        },
        "id": "mzjnCIc7X8a4",
        "outputId": "dee113d7-4d02-42a8-a21f-b49b242792ee"
      },
      "execution_count": 8,
      "outputs": [
        {
          "output_type": "execute_result",
          "data": {
            "text/plain": [
              "array([0, 0, 0, 0, 0, 0, 0, 0, 0, 0, 0, 0, 0, 0, 0, 0, 0, 0, 0, 0, 0, 0,\n",
              "       0, 0, 0, 0, 0, 0, 0, 0, 1, 1, 1, 1, 1, 1, 1, 1, 1, 1, 1, 1, 1, 1,\n",
              "       1, 1, 1, 1, 1, 1, 1, 1, 1, 1, 1, 1, 1, 1, 1, 1, 2, 2, 2, 2, 2, 2,\n",
              "       2, 2, 2, 2, 2, 2, 2, 2, 2, 2, 2, 2, 2, 2, 2, 2, 2, 2, 2, 2, 2, 2,\n",
              "       2, 2, 3, 3, 3, 3, 3, 3, 3, 3, 3, 3, 3, 3, 3, 3, 3, 3, 3, 3, 3, 3,\n",
              "       3, 3, 3, 3, 3, 3, 3, 3, 3, 3])"
            ]
          },
          "metadata": {},
          "execution_count": 8
        }
      ]
    },
    {
      "cell_type": "code",
      "source": [
        "unique,count = np.unique(target,return_counts=True)\n",
        "plt.bar(CATEGORIES,count)"
      ],
      "metadata": {
        "colab": {
          "base_uri": "https://localhost:8080/",
          "height": 282
        },
        "id": "s1hqlL3GarhY",
        "outputId": "e68e7857-7e43-4fbb-b30e-221a943a7971"
      },
      "execution_count": 9,
      "outputs": [
        {
          "output_type": "execute_result",
          "data": {
            "text/plain": [
              "<BarContainer object of 4 artists>"
            ]
          },
          "metadata": {},
          "execution_count": 9
        },
        {
          "output_type": "display_data",
          "data": {
            "image/png": "[encoded data removed]",
            "text/plain": [
              "<Figure size 432x288 with 1 Axes>"
            ]
          },
          "metadata": {
            "needs_background": "light"
          }
        }
      ]
    },
    {
      "cell_type": "code",
      "source": [
        "#Splitting the data into Training and Testing\n",
        "from sklearn.model_selection import train_test_split\n",
        "x_train,x_test,y_train,y_test = train_test_split(flat_data,target,test_size=0.3,random_state=69)"
      ],
      "metadata": {
        "id": "hw2b7mpQUpX_"
      },
      "execution_count": 10,
      "outputs": []
    },
    {
      "cell_type": "code",
      "source": [
        "from sklearn.model_selection import GridSearchCV\n",
        "from sklearn import svm\n",
        "param_grid = [\n",
        "              {\n",
        "                  'C':[1,10,100,1000],'kernel':['linear']\n",
        "              },\n",
        "              {\n",
        "                  'C':[1,10,100,1000],'gamma':[0.001,0.0001],'kernel':['rbf']\n",
        "              },\n",
        "]\n",
        "svc = svm.SVC(probability=True)\n",
        "clf = GridSearchCV(svc,param_grid)\n",
        "clf.fit(x_train,y_train)"
      ],
      "metadata": {
        "colab": {
          "base_uri": "https://localhost:8080/"
        },
        "id": "EoV2A22Pbwzi",
        "outputId": "4fe1694c-b900-4421-dfab-9d1c5dce680d"
      },
      "execution_count": 11,
      "outputs": [
        {
          "output_type": "execute_result",
          "data": {
            "text/plain": [
              "GridSearchCV(estimator=SVC(probability=True),\n",
              "             param_grid=[{'C': [1, 10, 100, 1000], 'kernel': ['linear']},\n",
              "                         {'C': [1, 10, 100, 1000], 'gamma': [0.001, 0.0001],\n",
              "                          'kernel': ['rbf']}])"
            ]
          },
          "metadata": {},
          "execution_count": 11
        }
      ]
    },
    {
      "cell_type": "code",
      "source": [
        "y_predict = clf.predict(x_test)\n",
        "y_predict"
      ],
      "metadata": {
        "colab": {
          "base_uri": "https://localhost:8080/"
        },
        "id": "4aDVUHwhe5Vq",
        "outputId": "c708aef2-582e-4fbd-c6e7-6becfbe51182"
      },
      "execution_count": 12,
      "outputs": [
        {
          "output_type": "execute_result",
          "data": {
            "text/plain": [
              "array([0, 0, 2, 3, 1, 1, 0, 3, 0, 3, 0, 3, 2, 2, 2, 0, 2, 1, 1, 1, 3, 1,\n",
              "       1, 2, 3, 0, 2, 2, 2, 0, 0, 1, 2, 1, 0, 0])"
            ]
          },
          "metadata": {},
          "execution_count": 12
        }
      ]
    },
    {
      "cell_type": "code",
      "source": [
        "y_test"
      ],
      "metadata": {
        "colab": {
          "base_uri": "https://localhost:8080/"
        },
        "id": "FG8hbeE6fL4T",
        "outputId": "61fdbe4c-e882-4300-9343-830b3edbd342"
      },
      "execution_count": 13,
      "outputs": [
        {
          "output_type": "execute_result",
          "data": {
            "text/plain": [
              "array([0, 0, 2, 3, 3, 1, 1, 3, 0, 3, 0, 3, 2, 2, 2, 0, 2, 3, 1, 1, 1, 1,\n",
              "       1, 3, 3, 0, 2, 2, 2, 1, 0, 1, 1, 1, 0, 0])"
            ]
          },
          "metadata": {},
          "execution_count": 13
        }
      ]
    },
    {
      "cell_type": "code",
      "source": [
        "from sklearn.metrics import accuracy_score, confusion_matrix\n",
        "accuracy_score(y_predict,y_test)"
      ],
      "metadata": {
        "colab": {
          "base_uri": "https://localhost:8080/"
        },
        "id": "XFJaFOlXh_aP",
        "outputId": "80554e19-2be2-43b6-fac2-843349f3c914"
      },
      "execution_count": 14,
      "outputs": [
        {
          "output_type": "execute_result",
          "data": {
            "text/plain": [
              "0.8055555555555556"
            ]
          },
          "metadata": {},
          "execution_count": 14
        }
      ]
    }
  ]
}